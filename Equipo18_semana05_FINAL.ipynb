{
  "cells": [
    {
      "cell_type": "markdown",
      "metadata": {
        "id": "view-in-github",
        "colab_type": "text"
      },
      "source": [
        "<a href=\"https://colab.research.google.com/github/AdrianaCama/AnalisisSeriesTiempo/blob/master/Equipo18_semana05_FINAL.ipynb\" target=\"_parent\"><img src=\"https://colab.research.google.com/assets/colab-badge.svg\" alt=\"Open In Colab\"/></a>"
      ]
    },
    {
      "cell_type": "markdown",
      "metadata": {
        "id": "UDmC6OMEaqqQ"
      },
      "source": [
        "# **Maestría en Inteligencia Artificial Aplicada**\n",
        "## **Curso: Procesamiento de Lenguaje Natural (NLP)**\n",
        "### Tecnológico de Monterrey\n",
        "### Prof Luis Eduardo Falcón Morales\n",
        "\n",
        "## **Adtividad de la Semana 5**\n",
        "### **Modelos Embebidos Caso Amazon/Yelp/IMDb**\n",
        "\n",
        "## **Nombres y matrículas de los integrantes del equipo:**\n",
        "- Ariel Arturo Ortega Alegría - A01550829\n",
        "- Adriana Camarillo Duran - A01551139\n",
        "- Jorge Luis Arroyo  - A01793023\n",
        "- Alejandra Ramírez Romano  - A01793144\n",
        "- Luis Angel Hermenegildo Dominguez  - A01793625\n"
      ]
    },
    {
      "cell_type": "markdown",
      "metadata": {
        "id": "Et3-UIpwaqqR"
      },
      "source": [
        "En la actividad de esta semana trabajarás en equipos con el modelo de vectores continuos/embebidos FastText, es decir, el modelo desarrollado por Facebook en 2016.\n",
        "\n",
        "Una manera de trabajar con estos modelos pre-entrenados, es generando el vocabulario a partir de tu conjunto de datos de entrenamiento. Para cada palabra de tu vocabulario, podrás sustituirlo por su correspondiente vector continuo. En caso de que no exista el vector para una palabra en particular, se puede eliminar dicha palabra, o bien sustituirla por el vector continuo más cercano. En esta actividad deberás aplicar esta segunda opción. Existen diversas propuestas para utilizar dichos vectores continuos como entrada para modelos de aprendizaje automático. En particular, en esta actividad cada enunciado será sustituido por el vector promedio de todos los tokens que lo forman. "
      ]
    },
    {
      "cell_type": "code",
      "source": [
        "# Instalar fasttext\n",
        "!pip install fasttext -q"
      ],
      "metadata": {
        "id": "2510BXTdazev"
      },
      "execution_count": null,
      "outputs": []
    },
    {
      "cell_type": "code",
      "execution_count": null,
      "metadata": {
        "id": "Ns1HNu07aqqS"
      },
      "outputs": [],
      "source": [
        "# Manipulación de datos\n",
        "import pandas as pd\n",
        "import numpy as np\n",
        "\n",
        "# Manipulación NLP\n",
        "import re\n",
        "import nltk\n",
        "import fasttext\n",
        "import fasttext.util\n",
        "import inflect\n",
        "\n",
        "# NLP\n",
        "from nltk.corpus import stopwords\n",
        "from nltk.stem import WordNetLemmatizer\n",
        "from collections import Counter\n",
        "\n",
        "# Gráficos\n",
        "from matplotlib import pyplot as plt\n",
        "import seaborn as sns\n",
        "\n",
        "# Nodelos de clasificación de scikit-learn\n",
        "from sklearn.linear_model import LogisticRegression\n",
        "from sklearn.ensemble import RandomForestClassifier\n",
        "\n",
        "# Utilidades de scikit-learn\n",
        "from sklearn.model_selection import train_test_split\n",
        "from sklearn.model_selection import ParameterGrid\n",
        "from sklearn.model_selection import GridSearchCV\n",
        "from sklearn.metrics import confusion_matrix\n",
        "\n",
        "# Otras librerias\n",
        "import warnings\n",
        "from sklearn.exceptions import ConvergenceWarning\n",
        "\n",
        "# Algunas configuraciones\n",
        "warnings.filterwarnings(\"ignore\", category=ConvergenceWarning)\n",
        "nltk.download('stopwords', quiet=True)\n",
        "nltk.download('wordnet', quiet=True)\n",
        "fasttext.FastText.eprint = lambda x: None\n",
        "fasttext.util.download_model('en', if_exists='ignore')\n",
        "\n",
        "\n",
        "# Variables globales\n",
        "PASSED_STRING = '✅ \\033[92m PASSED'\n",
        "FAILED_STRING = '⛔ \\033[91m FAILED'"
      ]
    },
    {
      "cell_type": "markdown",
      "metadata": {
        "id": "E_39LdCyaqqT"
      },
      "source": [
        "# **Ejercicio - 1.**\n",
        "\n",
        "Descarga los 3 archivos de Canvas. En particular, el archivo de datos de IMDb ya no requiere transformarse para obtener sus 1000 registros. Al cargar los datos de los tres archivos deberás tener un DataFrame de Pandas de 3000 registros, con sus etiquetas. Los archivos los encuentras en Canvas y se llaman: amazon5.txt, imdb5.txt, yelp5.txt.\n"
      ]
    },
    {
      "cell_type": "markdown",
      "metadata": {
        "id": "tHBLtyQ7aqqT"
      },
      "source": [
        "## Código:"
      ]
    },
    {
      "cell_type": "code",
      "execution_count": null,
      "metadata": {
        "id": "zcKoAlF-aqqT",
        "colab": {
          "base_uri": "https://localhost:8080/",
          "height": 224
        },
        "outputId": "0ea14e4b-33d7-4d69-fac8-f3835a5c700b"
      },
      "outputs": [
        {
          "output_type": "display_data",
          "data": {
            "text/plain": [
              "                                              review  label\n",
              "0  So there is no way for me to plug it in here i...      0\n",
              "1                        Good case, Excellent value.      1\n",
              "2                             Great for the jawbone.      1\n",
              "3  Tied to charger for conversations lasting more...      0\n",
              "4                                  The mic is great.      1"
            ],
            "text/html": [
              "\n",
              "  <div id=\"df-82319ffc-e932-49e9-8709-ae3cea3f47da\">\n",
              "    <div class=\"colab-df-container\">\n",
              "      <div>\n",
              "<style scoped>\n",
              "    .dataframe tbody tr th:only-of-type {\n",
              "        vertical-align: middle;\n",
              "    }\n",
              "\n",
              "    .dataframe tbody tr th {\n",
              "        vertical-align: top;\n",
              "    }\n",
              "\n",
              "    .dataframe thead th {\n",
              "        text-align: right;\n",
              "    }\n",
              "</style>\n",
              "<table border=\"1\" class=\"dataframe\">\n",
              "  <thead>\n",
              "    <tr style=\"text-align: right;\">\n",
              "      <th></th>\n",
              "      <th>review</th>\n",
              "      <th>label</th>\n",
              "    </tr>\n",
              "  </thead>\n",
              "  <tbody>\n",
              "    <tr>\n",
              "      <th>0</th>\n",
              "      <td>So there is no way for me to plug it in here i...</td>\n",
              "      <td>0</td>\n",
              "    </tr>\n",
              "    <tr>\n",
              "      <th>1</th>\n",
              "      <td>Good case, Excellent value.</td>\n",
              "      <td>1</td>\n",
              "    </tr>\n",
              "    <tr>\n",
              "      <th>2</th>\n",
              "      <td>Great for the jawbone.</td>\n",
              "      <td>1</td>\n",
              "    </tr>\n",
              "    <tr>\n",
              "      <th>3</th>\n",
              "      <td>Tied to charger for conversations lasting more...</td>\n",
              "      <td>0</td>\n",
              "    </tr>\n",
              "    <tr>\n",
              "      <th>4</th>\n",
              "      <td>The mic is great.</td>\n",
              "      <td>1</td>\n",
              "    </tr>\n",
              "  </tbody>\n",
              "</table>\n",
              "</div>\n",
              "      <button class=\"colab-df-convert\" onclick=\"convertToInteractive('df-82319ffc-e932-49e9-8709-ae3cea3f47da')\"\n",
              "              title=\"Convert this dataframe to an interactive table.\"\n",
              "              style=\"display:none;\">\n",
              "        \n",
              "  <svg xmlns=\"http://www.w3.org/2000/svg\" height=\"24px\"viewBox=\"0 0 24 24\"\n",
              "       width=\"24px\">\n",
              "    <path d=\"M0 0h24v24H0V0z\" fill=\"none\"/>\n",
              "    <path d=\"M18.56 5.44l.94 2.06.94-2.06 2.06-.94-2.06-.94-.94-2.06-.94 2.06-2.06.94zm-11 1L8.5 8.5l.94-2.06 2.06-.94-2.06-.94L8.5 2.5l-.94 2.06-2.06.94zm10 10l.94 2.06.94-2.06 2.06-.94-2.06-.94-.94-2.06-.94 2.06-2.06.94z\"/><path d=\"M17.41 7.96l-1.37-1.37c-.4-.4-.92-.59-1.43-.59-.52 0-1.04.2-1.43.59L10.3 9.45l-7.72 7.72c-.78.78-.78 2.05 0 2.83L4 21.41c.39.39.9.59 1.41.59.51 0 1.02-.2 1.41-.59l7.78-7.78 2.81-2.81c.8-.78.8-2.07 0-2.86zM5.41 20L4 18.59l7.72-7.72 1.47 1.35L5.41 20z\"/>\n",
              "  </svg>\n",
              "      </button>\n",
              "      \n",
              "  <style>\n",
              "    .colab-df-container {\n",
              "      display:flex;\n",
              "      flex-wrap:wrap;\n",
              "      gap: 12px;\n",
              "    }\n",
              "\n",
              "    .colab-df-convert {\n",
              "      background-color: #E8F0FE;\n",
              "      border: none;\n",
              "      border-radius: 50%;\n",
              "      cursor: pointer;\n",
              "      display: none;\n",
              "      fill: #1967D2;\n",
              "      height: 32px;\n",
              "      padding: 0 0 0 0;\n",
              "      width: 32px;\n",
              "    }\n",
              "\n",
              "    .colab-df-convert:hover {\n",
              "      background-color: #E2EBFA;\n",
              "      box-shadow: 0px 1px 2px rgba(60, 64, 67, 0.3), 0px 1px 3px 1px rgba(60, 64, 67, 0.15);\n",
              "      fill: #174EA6;\n",
              "    }\n",
              "\n",
              "    [theme=dark] .colab-df-convert {\n",
              "      background-color: #3B4455;\n",
              "      fill: #D2E3FC;\n",
              "    }\n",
              "\n",
              "    [theme=dark] .colab-df-convert:hover {\n",
              "      background-color: #434B5C;\n",
              "      box-shadow: 0px 1px 3px 1px rgba(0, 0, 0, 0.15);\n",
              "      filter: drop-shadow(0px 1px 2px rgba(0, 0, 0, 0.3));\n",
              "      fill: #FFFFFF;\n",
              "    }\n",
              "  </style>\n",
              "\n",
              "      <script>\n",
              "        const buttonEl =\n",
              "          document.querySelector('#df-82319ffc-e932-49e9-8709-ae3cea3f47da button.colab-df-convert');\n",
              "        buttonEl.style.display =\n",
              "          google.colab.kernel.accessAllowed ? 'block' : 'none';\n",
              "\n",
              "        async function convertToInteractive(key) {\n",
              "          const element = document.querySelector('#df-82319ffc-e932-49e9-8709-ae3cea3f47da');\n",
              "          const dataTable =\n",
              "            await google.colab.kernel.invokeFunction('convertToInteractive',\n",
              "                                                     [key], {});\n",
              "          if (!dataTable) return;\n",
              "\n",
              "          const docLinkHtml = 'Like what you see? Visit the ' +\n",
              "            '<a target=\"_blank\" href=https://colab.research.google.com/notebooks/data_table.ipynb>data table notebook</a>'\n",
              "            + ' to learn more about interactive tables.';\n",
              "          element.innerHTML = '';\n",
              "          dataTable['output_type'] = 'display_data';\n",
              "          await google.colab.output.renderOutput(dataTable, element);\n",
              "          const docLink = document.createElement('div');\n",
              "          docLink.innerHTML = docLinkHtml;\n",
              "          element.appendChild(docLink);\n",
              "        }\n",
              "      </script>\n",
              "    </div>\n",
              "  </div>\n",
              "  "
            ]
          },
          "metadata": {}
        },
        {
          "output_type": "stream",
          "name": "stdout",
          "text": [
            "Test: df with 3000 rows...✅ \u001b[92m PASSED\n"
          ]
        }
      ],
      "source": [
        "######################\n",
        "## Ejercicio 1:      #\n",
        "######################\n",
        "def f_ej1():\n",
        "    # Propiedas comunes en fuentes\n",
        "    read_props = {'names':['review','label'], 'header':None, 'encoding':'utf-8', 'engine':'python'}\n",
        "\n",
        "    # Lectura de archivos\n",
        "    df_a = pd.read_csv('./amazon5.txt', sep='\\t',  **read_props)\n",
        "    df_i = pd.read_csv('./imdb5.txt',   sep='   ', **read_props)\n",
        "    df_y = pd.read_csv('./yelp5.txt',   sep='\\t',  **read_props)\n",
        "\n",
        "    # Juntar dataframe\n",
        "    df = pd.concat([df_a, df_i, df_y], ignore_index=True)\n",
        "\n",
        "    # Unit test\n",
        "    display(df.head(5))\n",
        "\n",
        "    bool_ = df.shape[0] == 3000\n",
        "    print('Test: df with 3000 rows...' + ( PASSED_STRING if bool_ else FAILED_STRING ))\n",
        "\n",
        "    # Return\n",
        "    return df\n",
        "\n",
        "df = f_ej1()"
      ]
    },
    {
      "cell_type": "markdown",
      "metadata": {
        "id": "6tHiECrDaqqU"
      },
      "source": [
        "## Comentario:\n",
        ">Se crea un solo dataframe con 3000 comentarios basado en los review de Amazon, IMDB y Yelp, cada comentario contiene una etiqueta positiva (1.0) o negativa (0.0) como valor numérico para cada review (string).\n"
      ]
    },
    {
      "cell_type": "markdown",
      "metadata": {
        "id": "UZ6IrRxqaqqU"
      },
      "source": [
        "# **Ejercicio - 2.**\n",
        "Realiza de nuevo un proceso de limpieza. Aplica el preprocesamiento que consideres adecuado, sin embargo, deberás aplicar necesariamente alguna de las técnicas de lematización. Como aplicaremos modelos embebidos pre-entrenados, queremos palabras lo más cercanas a las existentes en un idioma, inglés en este caso. Aplica y justifica cualquier otro proceso de limpieza que consideres adecuado. Recuerda que en esta actividad se usarán vectores embebidos para un problema de clasificación, por lo que deberás tomar de acuerdo a este contexto. Justifica todas las transformaciones que se apliquen. "
      ]
    },
    {
      "cell_type": "markdown",
      "metadata": {
        "id": "fPbOsbWzaqqU"
      },
      "source": [
        "## Código"
      ]
    },
    {
      "cell_type": "code",
      "execution_count": null,
      "metadata": {
        "id": "w7veVsnXaqqV",
        "colab": {
          "base_uri": "https://localhost:8080/",
          "height": 206
        },
        "outputId": "b93f17ba-70b8-406e-be2b-1d74403b2e31"
      },
      "outputs": [
        {
          "output_type": "display_data",
          "data": {
            "text/plain": [
              "                                              review  label  \\\n",
              "0  So there is no way for me to plug it in here i...      0   \n",
              "1                        Good case, Excellent value.      1   \n",
              "2                             Great for the jawbone.      1   \n",
              "3  Tied to charger for conversations lasting more...      0   \n",
              "4                                  The mic is great.      1   \n",
              "\n",
              "                                        clean_tokens  \n",
              "0          [no, way, plug, u, unless, go, converter]  \n",
              "1                     [good, case, excellent, value]  \n",
              "2                                   [great, jawbone]  \n",
              "3  [tie, charger, conversation, last, minute, maj...  \n",
              "4                                       [mic, great]  "
            ],
            "text/html": [
              "\n",
              "  <div id=\"df-81623e44-8767-41b6-99d1-7d11fd931ce1\">\n",
              "    <div class=\"colab-df-container\">\n",
              "      <div>\n",
              "<style scoped>\n",
              "    .dataframe tbody tr th:only-of-type {\n",
              "        vertical-align: middle;\n",
              "    }\n",
              "\n",
              "    .dataframe tbody tr th {\n",
              "        vertical-align: top;\n",
              "    }\n",
              "\n",
              "    .dataframe thead th {\n",
              "        text-align: right;\n",
              "    }\n",
              "</style>\n",
              "<table border=\"1\" class=\"dataframe\">\n",
              "  <thead>\n",
              "    <tr style=\"text-align: right;\">\n",
              "      <th></th>\n",
              "      <th>review</th>\n",
              "      <th>label</th>\n",
              "      <th>clean_tokens</th>\n",
              "    </tr>\n",
              "  </thead>\n",
              "  <tbody>\n",
              "    <tr>\n",
              "      <th>0</th>\n",
              "      <td>So there is no way for me to plug it in here i...</td>\n",
              "      <td>0</td>\n",
              "      <td>[no, way, plug, u, unless, go, converter]</td>\n",
              "    </tr>\n",
              "    <tr>\n",
              "      <th>1</th>\n",
              "      <td>Good case, Excellent value.</td>\n",
              "      <td>1</td>\n",
              "      <td>[good, case, excellent, value]</td>\n",
              "    </tr>\n",
              "    <tr>\n",
              "      <th>2</th>\n",
              "      <td>Great for the jawbone.</td>\n",
              "      <td>1</td>\n",
              "      <td>[great, jawbone]</td>\n",
              "    </tr>\n",
              "    <tr>\n",
              "      <th>3</th>\n",
              "      <td>Tied to charger for conversations lasting more...</td>\n",
              "      <td>0</td>\n",
              "      <td>[tie, charger, conversation, last, minute, maj...</td>\n",
              "    </tr>\n",
              "    <tr>\n",
              "      <th>4</th>\n",
              "      <td>The mic is great.</td>\n",
              "      <td>1</td>\n",
              "      <td>[mic, great]</td>\n",
              "    </tr>\n",
              "  </tbody>\n",
              "</table>\n",
              "</div>\n",
              "      <button class=\"colab-df-convert\" onclick=\"convertToInteractive('df-81623e44-8767-41b6-99d1-7d11fd931ce1')\"\n",
              "              title=\"Convert this dataframe to an interactive table.\"\n",
              "              style=\"display:none;\">\n",
              "        \n",
              "  <svg xmlns=\"http://www.w3.org/2000/svg\" height=\"24px\"viewBox=\"0 0 24 24\"\n",
              "       width=\"24px\">\n",
              "    <path d=\"M0 0h24v24H0V0z\" fill=\"none\"/>\n",
              "    <path d=\"M18.56 5.44l.94 2.06.94-2.06 2.06-.94-2.06-.94-.94-2.06-.94 2.06-2.06.94zm-11 1L8.5 8.5l.94-2.06 2.06-.94-2.06-.94L8.5 2.5l-.94 2.06-2.06.94zm10 10l.94 2.06.94-2.06 2.06-.94-2.06-.94-.94-2.06-.94 2.06-2.06.94z\"/><path d=\"M17.41 7.96l-1.37-1.37c-.4-.4-.92-.59-1.43-.59-.52 0-1.04.2-1.43.59L10.3 9.45l-7.72 7.72c-.78.78-.78 2.05 0 2.83L4 21.41c.39.39.9.59 1.41.59.51 0 1.02-.2 1.41-.59l7.78-7.78 2.81-2.81c.8-.78.8-2.07 0-2.86zM5.41 20L4 18.59l7.72-7.72 1.47 1.35L5.41 20z\"/>\n",
              "  </svg>\n",
              "      </button>\n",
              "      \n",
              "  <style>\n",
              "    .colab-df-container {\n",
              "      display:flex;\n",
              "      flex-wrap:wrap;\n",
              "      gap: 12px;\n",
              "    }\n",
              "\n",
              "    .colab-df-convert {\n",
              "      background-color: #E8F0FE;\n",
              "      border: none;\n",
              "      border-radius: 50%;\n",
              "      cursor: pointer;\n",
              "      display: none;\n",
              "      fill: #1967D2;\n",
              "      height: 32px;\n",
              "      padding: 0 0 0 0;\n",
              "      width: 32px;\n",
              "    }\n",
              "\n",
              "    .colab-df-convert:hover {\n",
              "      background-color: #E2EBFA;\n",
              "      box-shadow: 0px 1px 2px rgba(60, 64, 67, 0.3), 0px 1px 3px 1px rgba(60, 64, 67, 0.15);\n",
              "      fill: #174EA6;\n",
              "    }\n",
              "\n",
              "    [theme=dark] .colab-df-convert {\n",
              "      background-color: #3B4455;\n",
              "      fill: #D2E3FC;\n",
              "    }\n",
              "\n",
              "    [theme=dark] .colab-df-convert:hover {\n",
              "      background-color: #434B5C;\n",
              "      box-shadow: 0px 1px 3px 1px rgba(0, 0, 0, 0.15);\n",
              "      filter: drop-shadow(0px 1px 2px rgba(0, 0, 0, 0.3));\n",
              "      fill: #FFFFFF;\n",
              "    }\n",
              "  </style>\n",
              "\n",
              "      <script>\n",
              "        const buttonEl =\n",
              "          document.querySelector('#df-81623e44-8767-41b6-99d1-7d11fd931ce1 button.colab-df-convert');\n",
              "        buttonEl.style.display =\n",
              "          google.colab.kernel.accessAllowed ? 'block' : 'none';\n",
              "\n",
              "        async function convertToInteractive(key) {\n",
              "          const element = document.querySelector('#df-81623e44-8767-41b6-99d1-7d11fd931ce1');\n",
              "          const dataTable =\n",
              "            await google.colab.kernel.invokeFunction('convertToInteractive',\n",
              "                                                     [key], {});\n",
              "          if (!dataTable) return;\n",
              "\n",
              "          const docLinkHtml = 'Like what you see? Visit the ' +\n",
              "            '<a target=\"_blank\" href=https://colab.research.google.com/notebooks/data_table.ipynb>data table notebook</a>'\n",
              "            + ' to learn more about interactive tables.';\n",
              "          element.innerHTML = '';\n",
              "          dataTable['output_type'] = 'display_data';\n",
              "          await google.colab.output.renderOutput(dataTable, element);\n",
              "          const docLink = document.createElement('div');\n",
              "          docLink.innerHTML = docLinkHtml;\n",
              "          element.appendChild(docLink);\n",
              "        }\n",
              "      </script>\n",
              "    </div>\n",
              "  </div>\n",
              "  "
            ]
          },
          "metadata": {}
        }
      ],
      "source": [
        "######################\n",
        "## Ejercicio 2:      #\n",
        "######################\n",
        "def f_cleantokens(doc):\n",
        "\n",
        "    ### Auxiliares\n",
        "\n",
        "    # Para preservar auxiliares de negación cuando definamos stopwords\n",
        "    negwords = [ 'no', 'nor', 'not', 'ain', 'aren', \"aren't\", 'don', \"don't\", 'couldn', \"couldn't\", 'didn', \"didn't\", 'doesn', \"doesn't\", 'hadn', \"hadn't\", 'hasn', \"hasn't\", 'haven', \"haven't\", 'isn', \"isn't\", 'mightn', \"mightn't\", 'mustn', \"mustn't\", 'needn', \"needn't\", 'shan', \"shan't\", 'shouldn', \"shouldn't\", 'wasn', \"wasn't\", 'weren', \"weren't\", 'won', \"won't\", 'wouldn', \"wouldn't\"]\n",
        "    \n",
        "    # stopwords de inglés preservando los auxiliares de negación\n",
        "    mystopwords = [w for w in stopwords.words('english') if w not in negwords]\n",
        "\n",
        "    # Lambda para convertir digitos a palabras\n",
        "    replace_with_words = lambda match: inflect.engine().number_to_words(int(match.group(0)))\n",
        "\n",
        "    # Instancia para poder lemenizar las palabras\n",
        "    lem = WordNetLemmatizer()\n",
        "\n",
        "    ### Transformaciones \n",
        "    # Pasar todo a minúsculas\n",
        "    doc = doc.lower()\n",
        "\n",
        "    # remplazar digitos a texto cuando [1]0* este presente para calificaciones numéricas\n",
        "    doc = re.sub(r'\\b\\d+\\b', replace_with_words, doc) if re.search(r'\\b[1]0*\\b', doc) else doc\n",
        "    \n",
        "    # Reemplazar comilla simple en negaciones\n",
        "    doc = doc.replace('n\\'t', 'nt')\n",
        "    \n",
        "    # preservar solo caracteres alfanuméricos\n",
        "    doc = re.sub(r'[^a-zéíóúüñ\\s]+', ' ', doc)\n",
        "\n",
        "    # Sin espacios en blanco adicionales para un correcto split\n",
        "    doc = re.sub(r'\\s+', ' ', doc)\n",
        "\n",
        "    # Remover las stopwords\n",
        "    doc = ' '.join([word for word in doc.split() if word not in mystopwords])\n",
        "\n",
        "    # convertir cadena a tokens de palabras y preservar solo con mas de una palabra\n",
        "    tokens = [word.strip() for word in doc.split() if len(doc.split()) > 0]\n",
        "\n",
        "    # Lemenizar sustantivos de los tokens\n",
        "    tokens = [lem.lemmatize(word, pos='n') for word in tokens]\n",
        "    \n",
        "    # Lemenizar verbos con conjugaciones ing y ed, esto respeta sustantivos ing/ed\n",
        "    #tokens = [lem.lemmatize(word, pos='v') if word.endswith('ing') else word for word in tokens]\n",
        "    #tokens = [lem.lemmatize(word, pos='v') if word.endswith('ed') else word for word in tokens]\n",
        "    tokens = [lem.lemmatize(word, pos='v') for word in tokens]\n",
        "\n",
        "    # lemenizamos adjetivos\n",
        "    tokens = [lem.lemmatize(word, pos='a') for word in tokens]\n",
        "\n",
        "    #devolver tokens limpios\n",
        "    return tokens\n",
        "\n",
        "def f_ej2(df):\n",
        "    df['clean_tokens'] = df.apply(lambda r: f_cleantokens(r['review']), axis=1)\n",
        "    display(df.head(5))\n",
        "    return df\n",
        "\n",
        "df = f_ej2(df)"
      ]
    },
    {
      "cell_type": "markdown",
      "metadata": {
        "id": "roXyA75oaqqW"
      },
      "source": [
        "## Comentario\n",
        "Se inicia convirtiendo todo a minúsculas a fin de reducir las posibilidades de presentación de cada palabra. Posteriormente se eliminan stopwords que son muy comunes pero no aportan nada; se conservan, sin embargo, las palabras negativas como negaciones de adjetivos y su impacto a las calificaciones. Después se remueven espacios en blanco adicionales para facilitar el partido de las palabras, se remueven no caracteres y se remplazan por espacio esto convertira palabras compeustas en una sola entidad, que no será problema para negaciones por la contracción [n't] a [nt], con esto se procede a la tokenización por palabras unitarias. Los tokens además reciben son reducidas en lemas a niverl de sustantivos, adjetivos y verbos \"ing\" y \"ed\".\n",
        "\n"
      ]
    },
    {
      "cell_type": "markdown",
      "metadata": {
        "id": "sMUpbhKvaqqW"
      },
      "source": [
        "# **Ejercicio - 3.** \n",
        "Llamar Xclean a los comentarios procesados y Y a las etiquetas. Realicemos una partición aleatoria con los mismos porcentajes de la práctica pasada para poder comparar dichos resultados con los de esta actividad, a saber, 70%, 15% y 15%, para entrenamiento, validación y prueba, respectivamente. Verifica que obtienes 2100 registros de entrenamiento y 450 para cada uno de validación y prueba. "
      ]
    },
    {
      "cell_type": "markdown",
      "metadata": {
        "id": "gaQKLr09aqqW"
      },
      "source": [
        "## Código"
      ]
    },
    {
      "cell_type": "code",
      "execution_count": null,
      "metadata": {
        "id": "YJlsfSQcaqqW",
        "colab": {
          "base_uri": "https://localhost:8080/"
        },
        "outputId": "a0fa7b1c-f41d-40be-c883-464a6afda06b"
      },
      "outputs": [
        {
          "output_type": "stream",
          "name": "stdout",
          "text": [
            "X,y Train: 2100 2100\n",
            "X,y Val: 450 450\n",
            "X,y Test 450 450\n",
            "Test: Train, Test and Validation sizes...✅ \u001b[92m PASSED\n"
          ]
        }
      ],
      "source": [
        "######################\n",
        "## Ejercicio 3:      #\n",
        "######################\n",
        "def f_ej3():\n",
        "    # Declarar x y Y \n",
        "    x = [x for x in df.clean_tokens]\n",
        "    Y = df.label\n",
        "\n",
        "    # Declarar split inicial de entrenamiento\n",
        "    x_train, x_val_and_test, y_train, y_val_and_test = train_test_split(\n",
        "        x, Y, train_size=.70, shuffle=True, random_state=1) \n",
        "    \n",
        "    # Dividir datos restantes en prueba y validación\n",
        "    x_val, x_test, y_val, y_test = train_test_split(\n",
        "        x_val_and_test, y_val_and_test, test_size=.50, shuffle=True, random_state=17)\n",
        "\n",
        "    # Unit test\n",
        "    bool_0 = len(x_train) == 2100 and len(y_train) == 2100\n",
        "    bool_1 = len(x_val) == 450 and len(y_val) == 450\n",
        "    bool_2 = len(x_test) == 450 and len(y_test) == 450\n",
        "    bool_ = bool_0 and bool_1 and bool_2\n",
        "\n",
        "\n",
        "    print('X,y Train:', len(x_train), len(y_train))\n",
        "    print('X,y Val:', len(x_val), len(y_val))\n",
        "    print('X,y Test', len(x_test), len(y_test))\n",
        "\n",
        "    print('Test: Train, Test and Validation sizes...' + ( PASSED_STRING if bool_ else FAILED_STRING ))\n",
        "    return x_train, x_val_and_test, y_train, y_val_and_test, x_val, x_test, y_val, y_test \n",
        "\n",
        "x_train, x_val_and_test, y_train, y_val_and_test, x_val, x_test, y_val, y_test = f_ej3()"
      ]
    },
    {
      "cell_type": "markdown",
      "metadata": {
        "id": "62eooBn4aqqW"
      },
      "source": [
        "## Comentario\n",
        "Se hace un partidio inicial del 70% y luego del restante se hacen dos partidos para tener conjuntos 70, 15, 15. Usaremos el 70 para pruebas; el primer 15 de validación para tuneo de modelos y el último 15 como los resultados reales de nuestro modelo. Al usar esta metodologia prevendremos \"data leakage\" ya que los modelos seran entrenados en una realidad observada y esa realidad observada la usaran para nuevos conjuntos desconocidos, buscamos con esto reducir overfit y tener modelos mas robustos que respondan bien a datos no observados."
      ]
    },
    {
      "cell_type": "markdown",
      "metadata": {
        "id": "YJU4fQTXaqqX"
      },
      "source": [
        "# **Ejercicio - 4.**\n",
        " Usando el conjunto de entrenamiento genera un vocabulario que no sea mayor a 1500 palabras, ni menor a 1000. ¿Por qué es importante acotar un vocabulario inferior y superiormente? ¿Por qué debe usarse solamente el conjunto de entrenamiento para generar el diccionario? Con este vocabulario que obtienes, filtra los conjuntos de entrenamiento, validación y prueba, de esta manera todos los comentarios usarán solamente palabras válidas de acuerdo a este vocabulario. Indica el tamaño del vocabulario obtenido.\n",
        "\n",
        " Hasta este punto básicamente has realizado transformaciones muy análogas a las de la semana pasada y que son válidas para muchos de los procesos dentro del análisis de textos. En dado caso comenta con tus compañeros de equipo qué diferencias has observado. Veamos ahora la diferencia con respecto a las matrices Tf-idf que aplicaste la semana pasada, con respecto a los vectores preentrenados embebidos. \n"
      ]
    },
    {
      "cell_type": "markdown",
      "metadata": {
        "id": "436HINp8aqqX"
      },
      "source": [
        "## Código"
      ]
    },
    {
      "cell_type": "code",
      "execution_count": null,
      "metadata": {
        "id": "ZmFCy30baqqX",
        "colab": {
          "base_uri": "https://localhost:8080/"
        },
        "outputId": "ab8331cf-8c09-4a21-c894-82c8cb8adfb6"
      },
      "outputs": [
        {
          "output_type": "stream",
          "name": "stdout",
          "text": [
            "Antes: ['co', 'star', 'dont', 'fare', 'much', 'good', 'people', 'like', 'morgan', 'freeman', 'jonah', 'hill', 'ed', 'helm', 'waste']\n",
            "Después: ['star', 'dont', 'fare', 'much', 'good', 'people', 'like', 'morgan', 'ed', 'waste']\n",
            "Antes: ['tonight', 'elk', 'filet', 'special', 'suck']\n",
            "Después: ['tonight', 'filet', 'special', 'suck']\n",
            "Antes: ['pay', 'bill', 'not', 'tip', 'felt', 'server', 'terrible', 'job']\n",
            "Después: ['pay', 'bill', 'not', 'tip', 'felt', 'server', 'terrible', 'job']\n",
            "Test: Vocabulary size 1443...✅ \u001b[92m PASSED\n"
          ]
        }
      ],
      "source": [
        "######################\n",
        "## Ejercicio 4:      #\n",
        "######################\n",
        "def f_ej4():\n",
        "    # Inicializar un contador\n",
        "    midict = Counter()\n",
        "\n",
        "    # Contar las palabras dentro del conjunto de entrenamiento\n",
        "    for k in range(len(x_train)):\n",
        "        midict.update(x_train[k])\n",
        "\n",
        "    # Conformar el vocabulario con paalabras comunes\n",
        "    midict = Counter({key: value for key, value in midict.items() if value >= 2})\n",
        "\n",
        "\n",
        "    # Filtrar los datos de entrenamiento basado en el vocabulario\n",
        "    train_x = []\n",
        "    for ss in x_train:\n",
        "        train_x.append([w for w in ss if w in midict])\n",
        "\n",
        "    val_x = []\n",
        "    for ss in x_val:\n",
        "        val_x.append([w for w in ss if w in midict])\n",
        "\n",
        "    test_x = []\n",
        "    for ss in x_test:\n",
        "        test_x.append([w for w in ss if w in midict])\n",
        "    \n",
        "    # Unit test\n",
        "    bool_ = len(midict) >= 1000 and len(midict) <= 1500\n",
        "    \n",
        "    for k in range(3):\n",
        "        print('Antes:', x_train[k])\n",
        "        print('Después:', train_x[k])\n",
        "\n",
        "    print(f'Test: Vocabulary size {len(midict)}...' + ( PASSED_STRING if bool_ else FAILED_STRING ))\n",
        "\n",
        "    return midict, train_x, val_x, test_x\n",
        "\n",
        "mivoc, train_x, val_x, test_x = f_ej4()\n"
      ]
    },
    {
      "cell_type": "markdown",
      "metadata": {
        "id": "798931yDaqqX"
      },
      "source": [
        "## Comentario\n",
        "**¿Por qué es importante acotar un vocabulario inferior y superiormente?**\n",
        "\n",
        "Al acotar el vocabulario nos aseguramos de tener una respuesta mas robusta ante la incertidumbre, es decir: tenemos un modelo que evita el sobre entrenamiento. Esto además reduce el costo computacional y permite un mejor time-to-market. En este caso acotamos el vocabulario por palabras mas comunes dentro de los documentos (reviews).\n",
        "\n",
        "**¿Por qué debe usarse solamente el conjunto de entrenamiento para generar el diccionario?**\n",
        "\n",
        "Es importante evitar la filtración de datos en el entrenamiento de modelos de aprendizaje automático para asegurar que el rendimiento estimado sea realista y generalizable a nuevos datos. Para evitarlo, se deben seguir buenas prácticas como dividir correctamente los datos en conjuntos de entrenamiento, validación y prueba.\n",
        "\n",
        "Debemos arrastrar este vocabulario para los conjuntos de validación y de prueba para evitar \"data leakage\"."
      ]
    },
    {
      "cell_type": "markdown",
      "metadata": {
        "id": "22Vc2Hs5aqqX"
      },
      "source": [
        "# **Ejercicio - 5.**\n",
        "Utilizarás los vectores embebidos FastText preentrenados por Facebook.\n",
        "\n",
        "Incluye una tabla comparativa de pros y contras entre los modelos FastText, word2vec de Google y Glove de Stanford. Puedes consultar sus páginas correspondientes:\n",
        "- https://fasttext.cc/\n",
        "- https://code.google.com/archive/p/word2vec/\n",
        "- https://nlp.stanford.edu/projects/glove/ "
      ]
    },
    {
      "cell_type": "markdown",
      "source": [
        "![image.png](data:image/png;base64,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)\n"
      ],
      "metadata": {
        "id": "EI2Av_TZLIkl"
      }
    },
    {
      "cell_type": "markdown",
      "metadata": {
        "id": "sSKClM9LaqqX"
      },
      "source": [
        "# **Ejercicio - 6.**\n",
        "Utiliza el modelo FastText de vectores embebidos pre-entrenados de dimensión 300 para generar un nuevo diccionario clave-valor, donde la “clave” será cada token o palabra de tu vocabulario y el “valor” será su vector embebido de dimensión 300. Este diccionario deberá ser del mismo tamaño que el vocabulario previo que hayas construido previamente.  https://fasttext.cc/docs/en/crawl-vectors.html\n",
        "\n",
        "NOTA: Debido a la cantidad de recursos computacionales que demanda cargar los vectores FastText (son 2 millones de vectores), es recomendable que una vez que generes el nuevo vocabulario de vectores embebidos, guardes dicho diccionario en un archivo (pickle, npz o el que consideres más adecuado). Una vez realizado lo anterior, puedes borrar la variable de FastText para liberar memoria RAM. De esta manera, ya tienes tu vocabulario de vectores embebidos de acuerdo a los tokens que consideras más adecuados para tu problema y puedes usarlo rápidamente cuando lo necesites. En dado caso apóyense entre los miembros del equipo de tener dificultades para generar el vocabulario y por mientras puedes usar el archivo del vocabulario que alguno haya generado"
      ]
    },
    {
      "cell_type": "markdown",
      "metadata": {
        "id": "uX3AVAIiaqqY"
      },
      "source": [
        "## Código"
      ]
    },
    {
      "cell_type": "code",
      "execution_count": null,
      "metadata": {
        "id": "ZY5W1uNHaqqY",
        "colab": {
          "base_uri": "https://localhost:8080/"
        },
        "outputId": "2eaa83a3-3aeb-4767-97de-1bd506dba344"
      },
      "outputs": [
        {
          "output_type": "stream",
          "name": "stdout",
          "text": [
            "Test: embeddings 1443 size...✅ \u001b[92m PASSED\n"
          ]
        }
      ],
      "source": [
        "######################\n",
        "## Ejercicio 6:      #\n",
        "######################\n",
        "def f_ej6(vocabulary):\n",
        "\n",
        "    # Tomar modelo preentrenado\n",
        "    ft = fasttext.load_model('cc.en.300.bin')\n",
        "\n",
        "    # Obtener valores embebidos del vocabulario original\n",
        "    embeddings = {word: ft.get_word_vector(word) for word in vocabulary.keys()}\n",
        "\n",
        "    # Unit test \n",
        "    bool_ = len(embeddings) == len(vocabulary)\n",
        "    print(f'Test: embeddings {len(vocabulary)} size...' + ( PASSED_STRING if bool_ else FAILED_STRING ))\n",
        "    \n",
        "    # Liberar y solo regresar los embeddings\n",
        "    del ft\n",
        "    return embeddings\n",
        "\n",
        "embeddings = f_ej6(mivoc)"
      ]
    },
    {
      "cell_type": "markdown",
      "metadata": {
        "id": "dUqxY7sWaqqY"
      },
      "source": [
        "## Comentario\n",
        "Se crea un vocabulario embebido con los pesos obtenidos de fasttext; este vocabulario contiene 300 vectores de peso para cada palabra del vocabulario con lo que es posible determinar los pesos de los comentarios."
      ]
    },
    {
      "cell_type": "markdown",
      "metadata": {
        "id": "pOBxK-xfaqqY"
      },
      "source": [
        "# **Ejercicio - 7.**\n",
        "Una manera de utilizar los vectores embebidos con modelos de aprendizaje automático en documentos de texto, es asignar a cada comentario filtrado el vector embebido de dimensión 300 que resulta de promediar todos sus tokens. Así, en este ejercicio deberás generar los arreglos correspondientes para los conjuntos de entrenamiento, validación y prueba. Los llamaremos trainEmb, valEmb y testEmb, respectivamente. ¿Cuáles son sus dimensiones? ¿Se podrían usar para su representación matrices dispersas (sparse matrices) como en el caso de la matriz Tf-idf? Responde a dichas preguntas. \n"
      ]
    },
    {
      "cell_type": "markdown",
      "metadata": {
        "id": "9rQo8MdkaqqY"
      },
      "source": [
        "## Código"
      ]
    },
    {
      "cell_type": "code",
      "execution_count": null,
      "metadata": {
        "id": "_bO6eSSFaqqY"
      },
      "outputs": [],
      "source": [
        "######################\n",
        "## Ejercicio 7:      #\n",
        "######################\n",
        "\n",
        "def f_docemb(documents, embeddings):\n",
        "    # Declaramos un documento vacio\n",
        "    document_embeddings = []\n",
        "    # Para cada documento...\n",
        "    for doc in documents:\n",
        "        # Obetenemos los valores embebidos\n",
        "        doc_embeddings = [embeddings[word] for word in doc if word in embeddings]\n",
        "        \n",
        "        if doc_embeddings:\n",
        "            # Como un promedio\n",
        "            average_embedding = np.mean(doc_embeddings, axis=0)\n",
        "        else:\n",
        "            # o Como 0\n",
        "            average_embedding = np.zeros(300)  \n",
        "\n",
        "        document_embeddings.append(average_embedding)\n",
        "    return document_embeddings\n",
        "\n",
        "def f_ej7():\n",
        "    return f_docemb(train_x, embeddings), f_docemb(val_x, embeddings), f_docemb(test_x, embeddings)\n",
        "\n",
        "trainEmb, valEmb, testEmb = f_ej7()"
      ]
    },
    {
      "cell_type": "markdown",
      "metadata": {
        "id": "FV-82TjjaqqY"
      },
      "source": [
        "## Comentario"
      ]
    },
    {
      "cell_type": "markdown",
      "source": [
        "Para cada \"review\" o documento, encontramos lo que cada una de sus palabras representa y con eso formamos un promedio. Habrán ocasiones en las que no encontremos palabras, ya que nuestro vocabulario está filtrado por lo que algunos comentarios están vacios, de momento, los llenaremos con matrices 0. Si un comentario tiene puros 0, eso significa que no es posible obtener información de esta, sin embargo, tenmdrá una etiqueta. \n",
        "\n",
        "**¿Cuáles son las dimensiones de los arreglos con vectores embebidos?**\n",
        "\n",
        "Las matrices trainEmb, valEmb y testEmb tienen dimensión (2100,300), (450, 300) y (450,300), respectivamente. Durante el proceso de representación de comentarios en vectores puede darse el caso que ninguna palabra del comentario exista en el vocabulario, por lo que la representación en vector de este comentario sería un arreglo de 0s. Sería conveniente eliminar estos registros, ya que introduce ruido al modelo que impacta en su poder predictivo.\n",
        "\n",
        "**¿Se podrían usar para su representación matrices dispersas (sparse matrices) como en el caso de la matriz Tf-idf?**\n",
        "\n",
        "Aunque es posible combinar FastText y TF-IDF en un modelo NLP, no se puede representar directamente los vectores embebidos de FastText mediante una matriz TF-IDF. Cada enfoque tiene sus propias ventajas y desventajas, y su elección depende de la tarea específica que se esté abordando en NLP."
      ],
      "metadata": {
        "id": "wKOK1PLhLr9V"
      }
    },
    {
      "cell_type": "markdown",
      "metadata": {
        "id": "wKejsLhHaqqZ"
      },
      "source": [
        "# **Ejercicio - 8.**\n",
        "Utiliza los modelos de regresión lineal y bosque aleatorio (random forest) y encuentra sus desempeños (accuracy). Compara los resultados con los de la semana anterior. \n"
      ]
    },
    {
      "cell_type": "markdown",
      "metadata": {
        "id": "N5l8r7fWaqqZ"
      },
      "source": [
        "## Código"
      ]
    },
    {
      "cell_type": "code",
      "execution_count": null,
      "metadata": {
        "id": "gavL6x_QaqqZ",
        "colab": {
          "base_uri": "https://localhost:8080/"
        },
        "outputId": "bf867c7a-439b-42ee-9ce6-7475915a4001"
      },
      "outputs": [
        {
          "output_type": "stream",
          "name": "stdout",
          "text": [
            "LR: hiperparametros:\n",
            "{'C': 100, 'class_weight': 'balanced', 'penalty': 'l2', 'solver': 'saga'}\n",
            "LR: Train-accuracy: 87.86%\n",
            "LR: Val-accuracy: 82%\n",
            "\n",
            "\n",
            "RF: hiperparametros:\n",
            "{'ccp_alpha': 0.0, 'criterion': 'entropy', 'max_depth': None, 'min_samples_split': 2}\n",
            "RF: Train-accuracy: 99.86%\n",
            "RF: Val-accuracy: 80.44%\n"
          ]
        }
      ],
      "source": [
        "######################\n",
        "## Ejercicio 8:      #\n",
        "######################\n",
        "\n",
        "def f_ej8():\n",
        "\n",
        "    # Funcion para encontrar mejor combinacion de parametros\n",
        "    def best_params(model, params, x_train, y_train, x_val, y_val):\n",
        "        # Variables iniciales\n",
        "        best_score = -1\n",
        "        best_params = None\n",
        "\n",
        "        # Busqueda del mejor modelo basado en el conjunto de validación (sin cv)\n",
        "        for params in ParameterGrid(params):\n",
        "            model.set_params(**params)\n",
        "            model.fit(x_train, y_train)\n",
        "            score = model.score(x_val, y_val)\n",
        "            if score > best_score:\n",
        "                best_score = score\n",
        "                best_params = params         \n",
        "        return best_params\n",
        "\n",
        "\n",
        "    # Hiperparametros\n",
        "    LR_pargrd = {\n",
        "           'C':[0.0001, 100, 20],\n",
        "            'solver':['newton-cg','lbfgs','liblinear','sag','saga'],\n",
        "            'class_weight':['balanced'],\n",
        "            'penalty':['l2']\n",
        "                }\n",
        "    # Mejores hiperparmetros\n",
        "    LR_params = best_params(LogisticRegression(random_state=42), LR_pargrd, trainEmb, y_train, valEmb, y_val)\n",
        "    # Entrenamiento con mejor modelo\n",
        "    LR = LogisticRegression(random_state=42, **LR_params)\n",
        "    LR.fit(trainEmb, y_train)\n",
        "\n",
        "\n",
        "    # Hiperparametros\n",
        "    RF_pargrd = {\n",
        "              'ccp_alpha': [0.0,  0.005, 0.05, 0.1, ],\n",
        "                'criterion': ['gini', 'entropy'],\n",
        "                'max_depth': [1, 10, None],\n",
        "                'min_samples_split': [2]\n",
        "                }\n",
        "    # Mejores hiperparmetros\n",
        "    RF_params = best_params(RandomForestClassifier(random_state=42, n_jobs=-1), RF_pargrd, trainEmb, y_train, valEmb, y_val)\n",
        "    # Entrenamiento con mejor modelo\n",
        "    RF = RandomForestClassifier(random_state=42, n_jobs=-1, **RF_params)\n",
        "    RF.fit(trainEmb, y_train)\n",
        "\n",
        "    # Mostrar modelos\n",
        "    print('LR: hiperparametros:')\n",
        "    print(LR_params)\n",
        "    print('LR: Train-accuracy: %.2f%%' % (100 * LR.score(trainEmb, y_train)))\n",
        "    print('LR: Val-accuracy: %2.f%%' % (100 * LR.score(valEmb, y_val)))\n",
        "\n",
        "    print('\\n')\n",
        "\n",
        "    print('RF: hiperparametros:')\n",
        "    print(RF_params)\n",
        "    print('RF: Train-accuracy: %.2f%%' % (100 * RF.score(trainEmb, y_train)))\n",
        "    print('RF: Val-accuracy: %.2f%%' % (100 * RF.score(valEmb, y_val)))\n",
        "\n",
        "\n",
        "    return LR, RF\n",
        "\n",
        "LR, RF = f_ej8()"
      ]
    },
    {
      "cell_type": "markdown",
      "metadata": {
        "id": "51ge7oI9aqqZ"
      },
      "source": [
        "## Comentario\n",
        "Dadas las distancias entre en entrenamiento y validación, seleccionamos a la regresión logistica como el modelo con mejor desempeño y es el que utilizaremos para crear nuestra predicción contra el conjunto de prueba.\n",
        "\n",
        "En comparación con los resultados obtenidos la semana pasada, se lograron scores más altos, pasando de un promedio de 70% de accuracy hasta un 80% aproximadamente.\n",
        "Fasttext..."
      ]
    },
    {
      "cell_type": "markdown",
      "metadata": {
        "id": "EecEfRH9aqqZ"
      },
      "source": [
        "# **Ejercicio - 9.**\n",
        "Obtener la matriz de confusión e interpretar sus valores. \n"
      ]
    },
    {
      "cell_type": "markdown",
      "metadata": {
        "id": "FJZZF5j2aqqZ"
      },
      "source": [
        "## Código"
      ]
    },
    {
      "cell_type": "code",
      "execution_count": null,
      "metadata": {
        "id": "CBgL07NUaqqa",
        "colab": {
          "base_uri": "https://localhost:8080/",
          "height": 406
        },
        "outputId": "86c6b690-f5ac-44c1-8502-bb56798b348c"
      },
      "outputs": [
        {
          "output_type": "stream",
          "name": "stdout",
          "text": [
            "Test-accuracy con el mejor modelo 83.33%\n"
          ]
        },
        {
          "output_type": "display_data",
          "data": {
            "text/plain": [
              "<Figure size 600x400 with 1 Axes>"
            ],
            "image/png": "[encoded data removed]"
          },
          "metadata": {}
        }
      ],
      "source": [
        "######################\n",
        "## Ejercicio 9:      #\n",
        "######################\n",
        "\n",
        "def f_ej9():\n",
        "    # Mejor modelo\n",
        "    mejor_modelo_Tfidf = LR\n",
        "\n",
        "    print('Test-accuracy con el mejor modelo %.2f%%' % (100*mejor_modelo_Tfidf.score(testEmb, y_test)))\n",
        "\n",
        "    # predecir valores\n",
        "    pred = mejor_modelo_Tfidf.predict(testEmb)\n",
        "\n",
        "    # Matriz de confusión\n",
        "    confmtx = confusion_matrix(y_test, pred, labels=[0,1])\n",
        "    txt = ['Verdaderos Negativos','Falsos Positivos','Falsos Negativos','Verdaderos Positivos']\n",
        "    vf = [ '( VN )', '( FP )', '( FN )', '( VP )']\n",
        "    \n",
        "    # Valores numéricos\n",
        "    frecuencia = [\"{0:0.0f}\".format(value) for value in confmtx.flatten()]\n",
        "    porcentaje = [\"{0:.1%}\".format(value) for value in confmtx.flatten()/np.sum(confmtx)]\n",
        "    \n",
        "    # Etiquetas\n",
        "    labels = [f\"{v1}\\n{v2}\\n{v3}\\n{v4}\" for v1, v2, v3, v4 in zip(txt,vf, frecuencia,porcentaje)]\n",
        "    labels = np.asarray(labels).reshape(2,2)\n",
        "\n",
        "    # Crear matriz en pliot\n",
        "    plt.figure(figsize=(6,4))\n",
        "    ax = sns.heatmap(confmtx, annot=labels, fmt='', cmap='Pastel1', cbar=False)\n",
        "    ax.set(ylabel=\"Etiquetas Reales\", xlabel=\"Etiquetas de Predicción\")\n",
        "    plt.show()\n",
        "\n",
        "f_ej9()"
      ]
    },
    {
      "cell_type": "markdown",
      "metadata": {
        "id": "SZqsk3Dqaqqa"
      },
      "source": [
        "## Comentario\n",
        "Con esto obtenemos un modelo con **83.33%** de accuracy para validar si un comentario es positivo o no basado en una regresión lineal y en vectores embebidos en lugar de diccionarios de palabras con matrices dispersas.\n",
        "\n",
        "Recordemos que 0 representa a los comentarios malos y 1 a los comentarios buenos, con esto en mente esta es la lectura que podemos dar a la matriz de confusion:\n",
        "\n",
        "VN= Mi modelo decia que mi comentario seria malo y su conclusión fue correcta -181- 40.2%\n",
        "\n",
        "FP=Mi modelo decia que mi comentario seria bueno ,la realidad es que mi comentario es malo -35 -7.8%\n",
        "\n",
        "FN= Mi modelo decia que mi comentario seria malo , la realidad es que mi comentario es bueno -40 -8.9%\n",
        "\n",
        "VP=Mi modelo decia que mi comentario seria bueno y su conclusión fue correcta -194 43.1%\n",
        "\n",
        "En general, la capacidad de predicción fue similar para ambos tipos de comentarios."
      ]
    },
    {
      "cell_type": "markdown",
      "metadata": {
        "id": "gZduqkzuaqqa"
      },
      "source": [
        "# **Ejercicio - 10.**\n",
        "Comenta con tus compañeros de equipo los pasos realizados en esta actividad e incluyan sus conclusiones finales. "
      ]
    },
    {
      "cell_type": "markdown",
      "metadata": {
        "id": "ySfYVt8kaqqp"
      },
      "source": [
        "## Comentario\n",
        "\n",
        "La idea de los vectores embebidos para vocabularios resulta fascinante, el poder darle un significado funcional a a las palabras lo hace más intuitivo y sencillo de aceptar como algo que funciona. Estos métodos experimentados aquí, resultaron además en un aumento de desempeño e incluso de rendimiento; aunque está parte tiene su razón en el pre entrenamiento.\n",
        "\n",
        "Resulta evidente que la limpieza sigue siendo un paso importante; estos vectores encuentran significados, cierto, pero si la palabra no es ubicable por faltas ortográficas o por falta de lemas, su valor sigue siendo cero. En particular observamos que se requiere menos limpieza pues estos modelos de hecho tienen palabras con peculiaridades que se aproximan más sencillo que a la análoga matriz de conteo, por lo que esto parece ser otra ventaja.\n",
        "\n",
        "En general, una aproximación divertida e intuitiva. De costo mayor, cierto, pero dentro de un rango bastantea aceptable considerando los creces que ofrece el uso.\n",
        "\n",
        "La parte interesante que quedaría por estudiar es la estructura, seguimos trabajando con palabras por separado, el orden no importa, esperemos ver más soluciones de esto en futuros ejercicios."
      ]
    },
    {
      "cell_type": "markdown",
      "source": [
        "# FIN DE LA ACTIVIDAD DE LA SEMANA 5"
      ],
      "metadata": {
        "id": "YrsFy8hNFSFU"
      }
    }
  ],
  "metadata": {
    "kernelspec": {
      "display_name": "Python 3",
      "language": "python",
      "name": "python3"
    },
    "language_info": {
      "codemirror_mode": {
        "name": "ipython",
        "version": 3
      },
      "file_extension": ".py",
      "mimetype": "text/x-python",
      "name": "python",
      "nbconvert_exporter": "python",
      "pygments_lexer": "ipython3",
      "version": "3.10.0"
    },
    "orig_nbformat": 4,
    "colab": {
      "provenance": [],
      "toc_visible": true,
      "include_colab_link": true
    }
  },
  "nbformat": 4,
  "nbformat_minor": 0
}